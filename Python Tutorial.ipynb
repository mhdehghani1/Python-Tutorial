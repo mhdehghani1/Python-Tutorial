{
 "cells": [
  {
   "cell_type": "markdown",
   "metadata": {},
   "source": [
    "<h1 align=center><font size = 7>Python</font></h1>\n",
    "\n"
   ]
  },
  {
   "cell_type": "markdown",
   "metadata": {},
   "source": [
    "## Table of Exercises!\n",
    "\n",
    "01. [Question 01](#question01)\n",
    "2. [Question 02](#question02).\n",
    "3. [Question 03](#question03).\n",
    "4. [Question 04](#question04).\n",
    "5. [Question 05](#question05).\n",
    "6. [Question 06](#question06).\n",
    "\n"
   ]
  },
  {
   "cell_type": "markdown",
   "metadata": {},
   "source": [
    "<a id='item312'></a>\n"
   ]
  },
  {
   "cell_type": "markdown",
   "metadata": {
    "button": false,
    "new_sheet": false,
    "run_control": {
     "read_only": false
    }
   },
   "source": [
    "<a id='question01'></a>\n",
    "## Question 01\n",
    "\n",
    "\n"
   ]
  },
  {
   "cell_type": "code",
   "execution_count": 5,
   "metadata": {},
   "outputs": [
    {
     "data": {
      "text/plain": [
       "['Hi.', 'Welcome', 'to', 'Filoger', 'AI', 'Bootcamp.']"
      ]
     },
     "execution_count": 5,
     "metadata": {},
     "output_type": "execute_result"
    }
   ],
   "source": [
    "S='Hi. Welcome to Filoger AI Bootcamp.'\n",
    "Snew=S.split()\n",
    "Snew"
   ]
  },
  {
   "cell_type": "markdown",
   "metadata": {},
   "source": [
    "<a id='question02'></a>\n",
    "## Question 02\n",
    "\n",
    "\n"
   ]
  },
  {
   "cell_type": "code",
   "execution_count": 10,
   "metadata": {},
   "outputs": [
    {
     "name": "stdout",
     "output_type": "stream",
     "text": [
      "The number of words in a sentence is 6\n"
     ]
    }
   ],
   "source": [
    "S='Hi. Welcome to Filoger AI Bootcamp.'\n",
    "Snew=S.split()\n",
    "print('The number of words in a sentence is {}'.format(len(Snew)))"
   ]
  },
  {
   "cell_type": "markdown",
   "metadata": {},
   "source": [
    "## Question 03\n",
    "\n",
    "\n"
   ]
  },
  {
   "cell_type": "code",
   "execution_count": 14,
   "metadata": {},
   "outputs": [
    {
     "name": "stdout",
     "output_type": "stream",
     "text": [
      "The number of sentences in phrase is  2\n"
     ]
    }
   ],
   "source": [
    "S='Hi. Welcome to Filoger AI Bootcamp.'\n",
    "Snew=S.split('. ')\n",
    "print('The number of sentences in phrase is  {}'.format(len(Snew)))"
   ]
  },
  {
   "cell_type": "markdown",
   "metadata": {},
   "source": [
    "<a id='question04'></a>\n",
    "## Question 04\n",
    "\n",
    "\n"
   ]
  },
  {
   "cell_type": "code",
   "execution_count": 20,
   "metadata": {},
   "outputs": [
    {
     "data": {
      "text/plain": [
       "['domain.com', 'gmail.com', 'yahoo.com']"
      ]
     },
     "execution_count": 20,
     "metadata": {},
     "output_type": "execute_result"
    }
   ],
   "source": [
    "def DomainX(email1):\n",
    "    e=email1.split('@')\n",
    "    return(e[1])\n",
    "\n",
    "Domains=[]\n",
    "Domains.append('user@domain.com')\n",
    "Domains.append('mhdf704@gmail.com')\n",
    "Domains.append('filoger@yahoo.com')\n",
    "\n",
    "list(map(DomainX,Domains))"
   ]
  },
  {
   "cell_type": "markdown",
   "metadata": {},
   "source": [
    "<a id='question05'></a>\n",
    "## Question 05\n",
    "\n",
    "\n"
   ]
  },
  {
   "cell_type": "code",
   "execution_count": 33,
   "metadata": {},
   "outputs": [
    {
     "data": {
      "text/plain": [
       "True"
      ]
     },
     "execution_count": 33,
     "metadata": {},
     "output_type": "execute_result"
    }
   ],
   "source": [
    "def iranFinder(x1):\n",
    "    IRFinder=False\n",
    "    x2=x1.split()\n",
    "    for i in x2:\n",
    "        if (i=='iran'):\n",
    "            IRFinder=True\n",
    "            break\n",
    "    return IRFinder\n",
    "\n",
    "temp='nam javid vatan sobh omid vatan nam javid vatan sobh omid vatan iran'\n",
    "iranFinder(temp)"
   ]
  },
  {
   "cell_type": "markdown",
   "metadata": {},
   "source": [
    "<a id='question06'></a>\n",
    "## Question 06\n",
    "\n",
    "\n"
   ]
  },
  {
   "cell_type": "code",
   "execution_count": 38,
   "metadata": {},
   "outputs": [
    {
     "name": "stdout",
     "output_type": "stream",
     "text": [
      "Small Ticket\n"
     ]
    }
   ],
   "source": [
    "def speed(s,tavalaod):\n",
    "    if(tavalaod==False):\n",
    "        if (s<=60):\n",
    "            print(\"No Ticket\")\n",
    "        if (60<s<=80):\n",
    "            print(\"Small Ticket\")\n",
    "        if (s>80):\n",
    "            print(\"Big Ticket\")\n",
    "    if(tavalaod==True):\n",
    "        if (s<=65):\n",
    "            print(\"No Ticket\")\n",
    "        if (65<s<=85):\n",
    "            print(\"Small Ticket\")\n",
    "        if (s>85):\n",
    "            print(\"Big Ticket\")\n",
    "tavalaod=True\n",
    "s=84\n",
    "speed(s,tavalaod)"
   ]
  },
  {
   "cell_type": "markdown",
   "metadata": {},
   "source": [
    "## Best Wishes!\n",
    "\n",
    "\n"
   ]
  }
 ],
 "metadata": {
  "kernelspec": {
   "display_name": "Python 3 (ipykernel)",
   "language": "python",
   "name": "python3"
  },
  "language_info": {
   "codemirror_mode": {
    "name": "ipython",
    "version": 3
   },
   "file_extension": ".py",
   "mimetype": "text/x-python",
   "name": "python",
   "nbconvert_exporter": "python",
   "pygments_lexer": "ipython3",
   "version": "3.9.7"
  }
 },
 "nbformat": 4,
 "nbformat_minor": 4
}
